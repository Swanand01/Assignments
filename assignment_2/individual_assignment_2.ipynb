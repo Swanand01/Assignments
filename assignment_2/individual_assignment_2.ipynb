{
 "metadata": {
  "language_info": {
   "codemirror_mode": {
    "name": "ipython",
    "version": 3
   },
   "file_extension": ".py",
   "mimetype": "text/x-python",
   "name": "python",
   "nbconvert_exporter": "python",
   "pygments_lexer": "ipython3",
   "version": "3.8.9"
  },
  "orig_nbformat": 2,
  "kernelspec": {
   "name": "python389jvsc74a57bd0bd81f17c7a73c73691e1718ba6e52e403905137f128badfe19aa50090c8d115c",
   "display_name": "Python 3.8.9 64-bit"
  },
  "metadata": {
   "interpreter": {
    "hash": "bd81f17c7a73c73691e1718ba6e52e403905137f128badfe19aa50090c8d115c"
   }
  }
 },
 "nbformat": 4,
 "nbformat_minor": 2,
 "cells": [
  {
   "cell_type": "code",
   "execution_count": 2,
   "metadata": {},
   "outputs": [],
   "source": [
    "def make_out_word(out, word):\n",
    "    return out[0:2] + word + out[2:]"
   ]
  },
  {
   "cell_type": "code",
   "execution_count": 3,
   "metadata": {},
   "outputs": [
    {
     "output_type": "stream",
     "name": "stdout",
     "text": [
      "<<Yay>>\n<<WooHoo>>\n[[my word]]\n"
     ]
    }
   ],
   "source": [
    "print(make_out_word('<<>>', 'Yay'))\n",
    "print(make_out_word('<<>>', 'WooHoo'))\n",
    "print(make_out_word('[[]]', 'my word'))"
   ]
  },
  {
   "cell_type": "code",
   "execution_count": 4,
   "metadata": {},
   "outputs": [],
   "source": [
    "def without_end(word):\n",
    "    return word[1:len(word) - 1]"
   ]
  },
  {
   "cell_type": "code",
   "execution_count": 5,
   "metadata": {},
   "outputs": [
    {
     "output_type": "stream",
     "name": "stdout",
     "text": [
      "ell\nodin\nusines\n"
     ]
    }
   ],
   "source": [
    "print(without_end('Hello'))\n",
    "print(without_end('coding'))\n",
    "print(without_end('business'))"
   ]
  },
  {
   "cell_type": "code",
   "execution_count": 6,
   "metadata": {},
   "outputs": [],
   "source": [
    "def cigar_party(cigars_number, is_weekend):\n",
    "    if (not is_weekend and 40<=cigars_number<=60) or (is_weekend and 40<=cigars_number):\n",
    "        return True\n",
    "    else:\n",
    "        return False"
   ]
  },
  {
   "cell_type": "code",
   "execution_count": 7,
   "metadata": {},
   "outputs": [
    {
     "output_type": "stream",
     "name": "stdout",
     "text": [
      "False\nTrue\nTrue\n"
     ]
    }
   ],
   "source": [
    "print(cigar_party(30, False))\n",
    "print(cigar_party(50, False))\n",
    "print(cigar_party(70, True))"
   ]
  },
  {
   "cell_type": "code",
   "execution_count": 8,
   "metadata": {},
   "outputs": [],
   "source": [
    "def double_char(word):\n",
    "    a = ''\n",
    "    for char in word:\n",
    "        a += char*2\n",
    "    return a"
   ]
  },
  {
   "cell_type": "code",
   "execution_count": 9,
   "metadata": {},
   "outputs": [
    {
     "output_type": "stream",
     "name": "stdout",
     "text": [
      "TThhee\nAAAAbbbb\nHHii--TThheerree\n"
     ]
    }
   ],
   "source": [
    "print(double_char('The'))\n",
    "print(double_char('AAbb'))\n",
    "print(double_char('Hi-There'))"
   ]
  },
  {
   "cell_type": "code",
   "execution_count": 10,
   "metadata": {},
   "outputs": [],
   "source": [
    "def count_evens(list):\n",
    "    count = 0\n",
    "    for num in list:\n",
    "        if num % 2 == 0:\n",
    "            count += 1\n",
    "    return count"
   ]
  },
  {
   "cell_type": "code",
   "execution_count": 11,
   "metadata": {},
   "outputs": [
    {
     "output_type": "stream",
     "name": "stdout",
     "text": [
      "3\n3\n0\n"
     ]
    }
   ],
   "source": [
    "print(count_evens([2, 1, 2, 3, 4]))\n",
    "print(count_evens([2, 2, 0]))\n",
    "print(count_evens([1, 3, 5]))"
   ]
  },
  {
   "cell_type": "code",
   "execution_count": 12,
   "metadata": {},
   "outputs": [],
   "source": [
    "def big_diff(list):\n",
    "    return max(list) - min(list)"
   ]
  },
  {
   "cell_type": "code",
   "execution_count": 13,
   "metadata": {},
   "outputs": [
    {
     "output_type": "stream",
     "name": "stdout",
     "text": [
      "7\n8\n8\n"
     ]
    }
   ],
   "source": [
    "print(big_diff([10, 3, 5, 6]))\n",
    "print(big_diff([7, 2, 10, 9]))\n",
    "print(big_diff([7, 2, 10, 9]))"
   ]
  },
  {
   "cell_type": "code",
   "execution_count": 14,
   "metadata": {},
   "outputs": [],
   "source": [
    "def spent_fuel(spent_time, average_speed):\n",
    "    distance = spent_time * average_speed\n",
    "    return round(distance / 12, 3)"
   ]
  },
  {
   "cell_type": "code",
   "execution_count": 15,
   "metadata": {},
   "outputs": [
    {
     "output_type": "stream",
     "name": "stdout",
     "text": [
      "70.833\n15.333\n122.833\n"
     ]
    }
   ],
   "source": [
    "print(spent_fuel(10, 85))\n",
    "print(spent_fuel(2, 92))\n",
    "print(spent_fuel(22, 67))"
   ]
  },
  {
   "cell_type": "code",
   "execution_count": 18,
   "metadata": {},
   "outputs": [],
   "source": [
    "def salary_increase(salary):\n",
    "    if salary <= 400:\n",
    "        readjustment_rate = 0.15\n",
    "    elif 400.01 < salary <= 800:\n",
    "        readjustment_rate = 0.12\n",
    "    elif 800 < salary <= 1200:\n",
    "        readjustment_rate = 0.10\n",
    "    elif 1200 < salary <= 2000:\n",
    "        readjustment_rate = 0.07\n",
    "    elif salary > 2000:\n",
    "        readjustment_rate = 0.04\n",
    "    new_salary = salary + salary * readjustment_rate\n",
    "    money_earned = salary * readjustment_rate\n",
    "    print('New Salary: ', round(new_salary, 2))\n",
    "    print('Money Earned: ', round(money_earned, 2))\n",
    "    print('Readjustment rate: ', round(readjustment_rate*100), '%\\n')"
   ]
  },
  {
   "cell_type": "code",
   "execution_count": 19,
   "metadata": {},
   "outputs": [
    {
     "output_type": "stream",
     "name": "stdout",
     "text": [
      "New Salary:  460.0\nMoney Earned:  60.0\nReadjustment rate:  15 %\n\nNew Salary:  880.01\nMoney Earned:  80.0\nReadjustment rate:  10 %\n\nNew Salary:  2140.0\nMoney Earned:  140.0\nReadjustment rate:  7 %\n\n"
     ]
    }
   ],
   "source": [
    "salary_increase(400.00)\n",
    "salary_increase(800.01)\n",
    "salary_increase(2000.00)"
   ]
  },
  {
   "cell_type": "code",
   "execution_count": 109,
   "metadata": {},
   "outputs": [],
   "source": [
    "def foo_bar_qix(number):\n",
    "    s = ''\n",
    "    if number % 3 == 0:\n",
    "        s += 'Foo'\n",
    "    if number % 5 == 0:\n",
    "        s += 'Bar'\n",
    "    if number % 7 == 0:\n",
    "        s += 'Qix'\n",
    "    for char in str(number):\n",
    "        if char == '0':\n",
    "            s+='*'\n",
    "        elif char == '3':\n",
    "            s+='Foo'\n",
    "        elif char == '5':\n",
    "            s+='Bar'\n",
    "        elif char == '7':\n",
    "            s+='Qix'\n",
    "    if s == '':\n",
    "        return number\n",
    "    else:\n",
    "        return s"
   ]
  }
 ]
}